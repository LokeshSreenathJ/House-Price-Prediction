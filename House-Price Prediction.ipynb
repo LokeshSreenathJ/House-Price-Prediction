{
 "cells": [
  {
   "cell_type": "code",
   "execution_count": 57,
   "id": "0828b1f7",
   "metadata": {
    "id": "0828b1f7"
   },
   "outputs": [],
   "source": [
    "import numpy as np\n",
    "import pandas as pd\n",
    "from sklearn.preprocessing import LabelEncoder\n",
    "from sklearn.preprocessing import MinMaxScaler\n",
    "from sklearn.preprocessing import StandardScaler\n",
    "from sklearn.model_selection import GridSearchCV, train_test_split, RandomizedSearchCV\n",
    "from sklearn.pipeline import Pipeline\n",
    "from sklearn.linear_model import Lasso, LogisticRegression, LinearRegression\n",
    "from sklearn.feature_selection import SelectFromModel\n",
    "from sklearn.ensemble import RandomForestRegressor, GradientBoostingRegressor\n",
    "from scipy.stats import loguniform\n",
    "from sklearn.metrics import r2_score\n",
    "from sklearn.neighbors import KNeighborsRegressor\n",
    "import matplotlib.pyplot as plt"
   ]
  },
  {
   "cell_type": "markdown",
   "id": "f2e71873",
   "metadata": {
    "id": "f2e71873"
   },
   "source": [
    "# Pre_Processing Stage"
   ]
  },
  {
   "cell_type": "code",
   "execution_count": 70,
   "id": "8e7f951c",
   "metadata": {
    "id": "8e7f951c",
    "outputId": "52f40e27-3931-4b60-bd37-a60491c89832"
   },
   "outputs": [
    {
     "data": {
      "text/plain": [
       "False"
      ]
     },
     "execution_count": 70,
     "metadata": {},
     "output_type": "execute_result"
    }
   ],
   "source": [
    "df = pd.read_csv(\"train.csv\")\n",
    "df_test = pd.read_csv(\"test.csv\")\n",
    "\n",
    "#For Training data\n",
    "col_names = df.columns\n",
    "col_numeric = df._get_numeric_data().columns\n",
    "col_categorical = list(set(col_names)-set(col_numeric))\n",
    "\n",
    "#Since the data_observations are not very large, using interpolate method to get the approximate values.\n",
    "for i in col_numeric:\n",
    "    df[i].interpolate(inplace = True)\n",
    "    \n",
    "#Using Replace method to change NA values to Nill.\n",
    "#As the categorical variables are concerned NA represents that specific feature is not present in the house. So, technically\n",
    "#its not a missing value, indeed a data.\n",
    "le = LabelEncoder()\n",
    "for i in range(len(col_categorical)):\n",
    "    labeli = le.fit_transform(df[col_categorical[i]])\n",
    "    df.drop(col_categorical[i], axis = 1, inplace = True)\n",
    "    df[col_categorical[i]] = labeli\n",
    "\n",
    "#For testing data    \n",
    "col_names_test = df_test.columns\n",
    "col_numeric_test = df_test._get_numeric_data().columns\n",
    "col_categorical_test = list(set(col_names_test)-set(col_numeric_test))\n",
    "\n",
    "#Since the data_observations are not very large, using interpolate method to get the approximate values.\n",
    "for i in col_numeric_test:\n",
    "    df_test[i].interpolate(inplace = True)\n",
    "    \n",
    "#Using Replace method to change NA values to Nill.\n",
    "#As the categorical variables are concerned NA represents that specific feature is not present in the house. So, technically\n",
    "#its not a missing value, indeed a data.\n",
    "le = LabelEncoder()\n",
    "for i in range(len(col_categorical_test)):\n",
    "    labeli = le.fit_transform(df_test[col_categorical_test[i]])\n",
    "    df_test.drop(col_categorical_test[i], axis = 1, inplace = True)\n",
    "    df_test[col_categorical_test[i]] = labeli\n",
    "df_test.isnull().values.any()"
   ]
  },
  {
   "cell_type": "code",
   "execution_count": 4,
   "id": "daeb08ea",
   "metadata": {
    "id": "daeb08ea"
   },
   "outputs": [
    {
     "data": {
      "text/plain": [
       "Index(['Id', 'MSSubClass', 'MSZoning', 'LotFrontage', 'LotArea', 'Street',\n",
       "       'Alley', 'LotShape', 'LandContour', 'Utilities', 'LotConfig',\n",
       "       'LandSlope', 'Neighborhood', 'Condition1', 'Condition2', 'BldgType',\n",
       "       'HouseStyle', 'OverallQual', 'OverallCond', 'YearBuilt', 'YearRemodAdd',\n",
       "       'RoofStyle', 'RoofMatl', 'Exterior1st', 'Exterior2nd', 'MasVnrType',\n",
       "       'MasVnrArea', 'ExterQual', 'ExterCond', 'Foundation', 'BsmtQual',\n",
       "       'BsmtCond', 'BsmtExposure', 'BsmtFinType1', 'BsmtFinSF1',\n",
       "       'BsmtFinType2', 'BsmtFinSF2', 'BsmtUnfSF', 'TotalBsmtSF', 'Heating',\n",
       "       'HeatingQC', 'CentralAir', 'Electrical', '1stFlrSF', '2ndFlrSF',\n",
       "       'LowQualFinSF', 'GrLivArea', 'BsmtFullBath', 'BsmtHalfBath', 'FullBath',\n",
       "       'HalfBath', 'BedroomAbvGr', 'KitchenAbvGr', 'KitchenQual',\n",
       "       'TotRmsAbvGrd', 'Functional', 'Fireplaces', 'FireplaceQu', 'GarageType',\n",
       "       'GarageYrBlt', 'GarageFinish', 'GarageCars', 'GarageArea', 'GarageQual',\n",
       "       'GarageCond', 'PavedDrive', 'WoodDeckSF', 'OpenPorchSF',\n",
       "       'EnclosedPorch', '3SsnPorch', 'ScreenPorch', 'PoolArea', 'PoolQC',\n",
       "       'Fence', 'MiscFeature', 'MiscVal', 'MoSold', 'YrSold', 'SaleType',\n",
       "       'SaleCondition', 'SalePrice'],\n",
       "      dtype='object')"
      ]
     },
     "execution_count": 4,
     "metadata": {},
     "output_type": "execute_result"
    }
   ],
   "source": [
    "col_names"
   ]
  },
  {
   "cell_type": "markdown",
   "id": "3b0e2135",
   "metadata": {
    "id": "3b0e2135"
   },
   "source": [
    "# Constructing Dataframe"
   ]
  },
  {
   "cell_type": "code",
   "execution_count": 71,
   "id": "dc87d80f",
   "metadata": {
    "id": "dc87d80f"
   },
   "outputs": [],
   "source": [
    "#Constructing the dataframe\n",
    "\n",
    "x_train = pd.DataFrame(df.drop(labels= [\"SalePrice\"], axis = 1))\n",
    "y_train = pd.DataFrame(df[\"SalePrice\"])\n",
    "\n",
    "x_test = pd.DataFrame(df_test)\n",
    "\n",
    "#Normalizing the data to apply Lasso Regularisation for Feature Selection.\n",
    "\n",
    "#Test_Train Split data\n",
    "X_train, X_test, Y_train, Y_test = train_test_split(x_train,y_train, test_size = 0.2, random_state = 41)"
   ]
  },
  {
   "cell_type": "markdown",
   "id": "41d9576e",
   "metadata": {
    "id": "41d9576e"
   },
   "source": [
    "# Tuning_alpha_character"
   ]
  },
  {
   "cell_type": "code",
   "execution_count": 85,
   "id": "4d10ad4e",
   "metadata": {
    "id": "4d10ad4e"
   },
   "outputs": [],
   "source": [
    "pipeline = Pipeline([\n",
    "    (\"scaler1\",StandardScaler()),\n",
    "    (\"model1\", Lasso())\n",
    "])\n",
    "\n",
    "search = RandomizedSearchCV(pipeline,\n",
    "                     {\"model1__alpha\": loguniform.rvs(1e-10,1e5, size = 100000)},cv = 10,\n",
    "                      scoring = \"neg_mean_squared_error\", n_jobs = -1\n",
    "                     )"
   ]
  },
  {
   "cell_type": "code",
   "execution_count": 86,
   "id": "dcfc50ce",
   "metadata": {
    "id": "dcfc50ce",
    "outputId": "51effc10-5d2f-48ec-b661-b5d839b71fce"
   },
   "outputs": [
    {
     "data": {
      "text/html": [
       "<style>#sk-container-id-5 {color: black;background-color: white;}#sk-container-id-5 pre{padding: 0;}#sk-container-id-5 div.sk-toggleable {background-color: white;}#sk-container-id-5 label.sk-toggleable__label {cursor: pointer;display: block;width: 100%;margin-bottom: 0;padding: 0.3em;box-sizing: border-box;text-align: center;}#sk-container-id-5 label.sk-toggleable__label-arrow:before {content: \"▸\";float: left;margin-right: 0.25em;color: #696969;}#sk-container-id-5 label.sk-toggleable__label-arrow:hover:before {color: black;}#sk-container-id-5 div.sk-estimator:hover label.sk-toggleable__label-arrow:before {color: black;}#sk-container-id-5 div.sk-toggleable__content {max-height: 0;max-width: 0;overflow: hidden;text-align: left;background-color: #f0f8ff;}#sk-container-id-5 div.sk-toggleable__content pre {margin: 0.2em;color: black;border-radius: 0.25em;background-color: #f0f8ff;}#sk-container-id-5 input.sk-toggleable__control:checked~div.sk-toggleable__content {max-height: 200px;max-width: 100%;overflow: auto;}#sk-container-id-5 input.sk-toggleable__control:checked~label.sk-toggleable__label-arrow:before {content: \"▾\";}#sk-container-id-5 div.sk-estimator input.sk-toggleable__control:checked~label.sk-toggleable__label {background-color: #d4ebff;}#sk-container-id-5 div.sk-label input.sk-toggleable__control:checked~label.sk-toggleable__label {background-color: #d4ebff;}#sk-container-id-5 input.sk-hidden--visually {border: 0;clip: rect(1px 1px 1px 1px);clip: rect(1px, 1px, 1px, 1px);height: 1px;margin: -1px;overflow: hidden;padding: 0;position: absolute;width: 1px;}#sk-container-id-5 div.sk-estimator {font-family: monospace;background-color: #f0f8ff;border: 1px dotted black;border-radius: 0.25em;box-sizing: border-box;margin-bottom: 0.5em;}#sk-container-id-5 div.sk-estimator:hover {background-color: #d4ebff;}#sk-container-id-5 div.sk-parallel-item::after {content: \"\";width: 100%;border-bottom: 1px solid gray;flex-grow: 1;}#sk-container-id-5 div.sk-label:hover label.sk-toggleable__label {background-color: #d4ebff;}#sk-container-id-5 div.sk-serial::before {content: \"\";position: absolute;border-left: 1px solid gray;box-sizing: border-box;top: 0;bottom: 0;left: 50%;z-index: 0;}#sk-container-id-5 div.sk-serial {display: flex;flex-direction: column;align-items: center;background-color: white;padding-right: 0.2em;padding-left: 0.2em;position: relative;}#sk-container-id-5 div.sk-item {position: relative;z-index: 1;}#sk-container-id-5 div.sk-parallel {display: flex;align-items: stretch;justify-content: center;background-color: white;position: relative;}#sk-container-id-5 div.sk-item::before, #sk-container-id-5 div.sk-parallel-item::before {content: \"\";position: absolute;border-left: 1px solid gray;box-sizing: border-box;top: 0;bottom: 0;left: 50%;z-index: -1;}#sk-container-id-5 div.sk-parallel-item {display: flex;flex-direction: column;z-index: 1;position: relative;background-color: white;}#sk-container-id-5 div.sk-parallel-item:first-child::after {align-self: flex-end;width: 50%;}#sk-container-id-5 div.sk-parallel-item:last-child::after {align-self: flex-start;width: 50%;}#sk-container-id-5 div.sk-parallel-item:only-child::after {width: 0;}#sk-container-id-5 div.sk-dashed-wrapped {border: 1px dashed gray;margin: 0 0.4em 0.5em 0.4em;box-sizing: border-box;padding-bottom: 0.4em;background-color: white;}#sk-container-id-5 div.sk-label label {font-family: monospace;font-weight: bold;display: inline-block;line-height: 1.2em;}#sk-container-id-5 div.sk-label-container {text-align: center;}#sk-container-id-5 div.sk-container {/* jupyter's `normalize.less` sets `[hidden] { display: none; }` but bootstrap.min.css set `[hidden] { display: none !important; }` so we also need the `!important` here to be able to override the default hidden behavior on the sphinx rendered scikit-learn.org. See: https://github.com/scikit-learn/scikit-learn/issues/21755 */display: inline-block !important;position: relative;}#sk-container-id-5 div.sk-text-repr-fallback {display: none;}</style><div id=\"sk-container-id-5\" class=\"sk-top-container\"><div class=\"sk-text-repr-fallback\"><pre>RandomizedSearchCV(cv=10,\n",
       "                   estimator=Pipeline(steps=[(&#x27;scaler1&#x27;, StandardScaler()),\n",
       "                                             (&#x27;model1&#x27;, Lasso())]),\n",
       "                   n_jobs=-1,\n",
       "                   param_distributions={&#x27;model1__alpha&#x27;: array([8.94377098e+04, 9.54729776e-08, 9.54851093e-01, ...,\n",
       "       2.27136999e-05, 2.45834319e-05, 1.55321659e-08])},\n",
       "                   scoring=&#x27;neg_mean_squared_error&#x27;)</pre><b>In a Jupyter environment, please rerun this cell to show the HTML representation or trust the notebook. <br />On GitHub, the HTML representation is unable to render, please try loading this page with nbviewer.org.</b></div><div class=\"sk-container\" hidden><div class=\"sk-item sk-dashed-wrapped\"><div class=\"sk-label-container\"><div class=\"sk-label sk-toggleable\"><input class=\"sk-toggleable__control sk-hidden--visually\" id=\"sk-estimator-id-14\" type=\"checkbox\" ><label for=\"sk-estimator-id-14\" class=\"sk-toggleable__label sk-toggleable__label-arrow\">RandomizedSearchCV</label><div class=\"sk-toggleable__content\"><pre>RandomizedSearchCV(cv=10,\n",
       "                   estimator=Pipeline(steps=[(&#x27;scaler1&#x27;, StandardScaler()),\n",
       "                                             (&#x27;model1&#x27;, Lasso())]),\n",
       "                   n_jobs=-1,\n",
       "                   param_distributions={&#x27;model1__alpha&#x27;: array([8.94377098e+04, 9.54729776e-08, 9.54851093e-01, ...,\n",
       "       2.27136999e-05, 2.45834319e-05, 1.55321659e-08])},\n",
       "                   scoring=&#x27;neg_mean_squared_error&#x27;)</pre></div></div></div><div class=\"sk-parallel\"><div class=\"sk-parallel-item\"><div class=\"sk-item\"><div class=\"sk-label-container\"><div class=\"sk-label sk-toggleable\"><input class=\"sk-toggleable__control sk-hidden--visually\" id=\"sk-estimator-id-15\" type=\"checkbox\" ><label for=\"sk-estimator-id-15\" class=\"sk-toggleable__label sk-toggleable__label-arrow\">estimator: Pipeline</label><div class=\"sk-toggleable__content\"><pre>Pipeline(steps=[(&#x27;scaler1&#x27;, StandardScaler()), (&#x27;model1&#x27;, Lasso())])</pre></div></div></div><div class=\"sk-serial\"><div class=\"sk-item\"><div class=\"sk-serial\"><div class=\"sk-item\"><div class=\"sk-estimator sk-toggleable\"><input class=\"sk-toggleable__control sk-hidden--visually\" id=\"sk-estimator-id-16\" type=\"checkbox\" ><label for=\"sk-estimator-id-16\" class=\"sk-toggleable__label sk-toggleable__label-arrow\">StandardScaler</label><div class=\"sk-toggleable__content\"><pre>StandardScaler()</pre></div></div></div><div class=\"sk-item\"><div class=\"sk-estimator sk-toggleable\"><input class=\"sk-toggleable__control sk-hidden--visually\" id=\"sk-estimator-id-17\" type=\"checkbox\" ><label for=\"sk-estimator-id-17\" class=\"sk-toggleable__label sk-toggleable__label-arrow\">Lasso</label><div class=\"sk-toggleable__content\"><pre>Lasso()</pre></div></div></div></div></div></div></div></div></div></div></div></div>"
      ],
      "text/plain": [
       "RandomizedSearchCV(cv=10,\n",
       "                   estimator=Pipeline(steps=[('scaler1', StandardScaler()),\n",
       "                                             ('model1', Lasso())]),\n",
       "                   n_jobs=-1,\n",
       "                   param_distributions={'model1__alpha': array([8.94377098e+04, 9.54729776e-08, 9.54851093e-01, ...,\n",
       "       2.27136999e-05, 2.45834319e-05, 1.55321659e-08])},\n",
       "                   scoring='neg_mean_squared_error')"
      ]
     },
     "execution_count": 86,
     "metadata": {},
     "output_type": "execute_result"
    }
   ],
   "source": [
    "search.fit(X_train,Y_train)\n",
    "#We are using the alpha i-e hypertuning parameter value as shown above and for each value we perform \n",
    "#10-fold CV. Minimum the error that generates we pick that coresponding alpha as our optimum value aka best fit."
   ]
  },
  {
   "cell_type": "code",
   "execution_count": 87,
   "id": "ae9e7513",
   "metadata": {
    "id": "ae9e7513",
    "outputId": "b1b872ca-afeb-42e2-ecdf-a7da0d1132fc"
   },
   "outputs": [
    {
     "data": {
      "text/plain": [
       "{'model1__alpha': 65.15473148785117}"
      ]
     },
     "execution_count": 87,
     "metadata": {},
     "output_type": "execute_result"
    }
   ],
   "source": [
    "#Finding the best alpha value:\n",
    "search.best_params_"
   ]
  },
  {
   "cell_type": "code",
   "execution_count": 88,
   "id": "3dcd2590",
   "metadata": {
    "id": "3dcd2590",
    "outputId": "1fb92404-d7b1-41fc-c2a2-4f03f400aced"
   },
   "outputs": [
    {
     "data": {
      "text/plain": [
       "array([   -0.        , -5122.01503164,    -0.        ,  1160.48088378,\n",
       "       20759.7836037 ,  1369.54291326,  2461.81242233,  1478.70548652,\n",
       "        4193.85808979,  5161.15143084,     0.        ,    -0.        ,\n",
       "           0.        ,  2556.67162316,     0.        ,    -0.        ,\n",
       "       22098.01165344,  1157.92187073,     0.        ,     0.        ,\n",
       "           0.        ,    -0.        ,    -0.        ,     0.        ,\n",
       "        1383.964729  ,     0.        ,  8642.4356861 ,     0.        ,\n",
       "         964.68499748,     0.        ,    -0.        ,     0.        ,\n",
       "         277.75787522,    -0.        ,     0.        ,    -0.        ,\n",
       "          -0.        ,     0.        ,   659.85104881,     0.        ,\n",
       "           0.        ,    -0.        ,     0.        , -2758.03850353,\n",
       "          -0.        ,    -0.        ,     0.        , -1912.73278929,\n",
       "           0.        ,   665.73395589,    -0.        ,    -0.        ,\n",
       "           0.        ,    -0.        ,  -637.92261013,     0.        ,\n",
       "         980.6859998 ,    -0.        ,     0.        ,    -0.        ,\n",
       "          -0.        ,  -523.51966532,     0.        ,    -0.        ,\n",
       "          -0.        , -7444.59985031,     0.        ,     0.        ,\n",
       "           0.        ,   -97.64181501,     0.        ,    -0.        ,\n",
       "          -0.        , -7071.69285124,    -0.        ,     0.        ,\n",
       "           0.        ,    -0.        ,     0.        , -5626.55299777])"
      ]
     },
     "execution_count": 88,
     "metadata": {},
     "output_type": "execute_result"
    }
   ],
   "source": [
    "feature_parameters = search2.best_estimator_[1].coef_\n",
    "feature_parameters"
   ]
  },
  {
   "cell_type": "code",
   "execution_count": 89,
   "id": "3c5ca495",
   "metadata": {
    "id": "3c5ca495",
    "outputId": "9b7ec3af-2a50-457b-e084-21538daf7f36"
   },
   "outputs": [
    {
     "data": {
      "text/plain": [
       "(75,)"
      ]
     },
     "execution_count": 89,
     "metadata": {},
     "output_type": "execute_result"
    }
   ],
   "source": [
    "coefficients = search.best_estimator_.named_steps['model1'].coef_\n",
    "importance = np.abs(coefficients)\n",
    "importance\n",
    "required_col = np.array(list(col_names[:80]))[importance!=0]\n",
    "insignificant_col = list(set(col_names) - set(required_col))\n",
    "required_col.shape\n",
    "#After applying Lasso Feature Extraction, these are the significant features."
   ]
  },
  {
   "cell_type": "code",
   "execution_count": 90,
   "id": "1d837df4",
   "metadata": {},
   "outputs": [],
   "source": [
    "X_lasso = X_train[required_col]\n",
    "X_lasso_tst = X_test[required_col]"
   ]
  },
  {
   "cell_type": "markdown",
   "id": "2ee6d3a6",
   "metadata": {},
   "source": [
    "# Models without using Lasso"
   ]
  },
  {
   "cell_type": "code",
   "execution_count": 91,
   "id": "4e383e37",
   "metadata": {},
   "outputs": [
    {
     "data": {
      "text/plain": [
       "0.8628246431550455"
      ]
     },
     "execution_count": 91,
     "metadata": {},
     "output_type": "execute_result"
    }
   ],
   "source": [
    "model1 = LinearRegression()\n",
    "model1.fit(X_train,Y_train)\n",
    "prediction_model1 = model1.predict(X_test)\n",
    "r_squared = r2_score(Y_test,prediction_model1)\n",
    "r_squared"
   ]
  },
  {
   "cell_type": "code",
   "execution_count": 92,
   "id": "70e7b6c1",
   "metadata": {},
   "outputs": [
    {
     "data": {
      "text/plain": [
       "27048.294546434885"
      ]
     },
     "execution_count": 92,
     "metadata": {},
     "output_type": "execute_result"
    }
   ],
   "source": [
    "import math as math\n",
    "math.sqrt(np.mean((prediction_model1-Y_test)**2, axis = 0))"
   ]
  },
  {
   "cell_type": "markdown",
   "id": "02feffb8",
   "metadata": {},
   "source": [
    "# Models with Lasso using alpha as 65 "
   ]
  },
  {
   "cell_type": "code",
   "execution_count": 93,
   "id": "f89949c4",
   "metadata": {},
   "outputs": [
    {
     "data": {
      "text/plain": [
       "0.8647951589316976"
      ]
     },
     "execution_count": 93,
     "metadata": {},
     "output_type": "execute_result"
    }
   ],
   "source": [
    "model1_lasso = LinearRegression()\n",
    "model1_lasso.fit(X_lasso,Y_train)\n",
    "prediction_model1_lasso = model1_lasso.predict(X_lasso_tst)\n",
    "r_squared = r2_score(Y_test,prediction_model1_lasso)\n",
    "r_squared"
   ]
  },
  {
   "cell_type": "code",
   "execution_count": 94,
   "id": "70870c19",
   "metadata": {},
   "outputs": [
    {
     "data": {
      "text/plain": [
       "26853.318243148082"
      ]
     },
     "execution_count": 94,
     "metadata": {},
     "output_type": "execute_result"
    }
   ],
   "source": [
    "math.sqrt(np.mean((prediction_model1_lasso-Y_test)**2, axis = 0))"
   ]
  },
  {
   "cell_type": "markdown",
   "id": "8b6b5cab",
   "metadata": {},
   "source": [
    "Conclusion: Upon using alpha as 65 the test accuracy has gone up but the model has only eliminated five features. Still the variance of the model has not reduced significantly"
   ]
  },
  {
   "cell_type": "markdown",
   "id": "e0860863",
   "metadata": {},
   "source": [
    "The RMSE value of model using lasso regularization with alpha value as 2780 has yielded the model with 29 independent features, which has significantly reduced the variance of the model. Apart from these the accuracy of the model still remains at 0.77 which is not bad with using 27 predictors."
   ]
  },
  {
   "cell_type": "markdown",
   "id": "6de6dff4",
   "metadata": {},
   "source": [
    "# Gradient Boost Algorithm "
   ]
  },
  {
   "cell_type": "code",
   "execution_count": 8,
   "id": "1489ec76",
   "metadata": {},
   "outputs": [],
   "source": [
    "space = {\n",
    "    \"learning_rate\" : [0.001,0.01,0.05,0.1,0.15,0.2],\n",
    "    \"n_estimators\": [100,200,300,400,500]\n",
    "}\n",
    "search = GridSearchCV(GradientBoostingRegressor(), space, scoring = \"neg_mean_absolute_error\", n_jobs = -1, cv = 10)"
   ]
  },
  {
   "cell_type": "code",
   "execution_count": 12,
   "id": "ef6b9adb",
   "metadata": {},
   "outputs": [
    {
     "data": {
      "text/html": [
       "<style>#sk-container-id-2 {color: black;background-color: white;}#sk-container-id-2 pre{padding: 0;}#sk-container-id-2 div.sk-toggleable {background-color: white;}#sk-container-id-2 label.sk-toggleable__label {cursor: pointer;display: block;width: 100%;margin-bottom: 0;padding: 0.3em;box-sizing: border-box;text-align: center;}#sk-container-id-2 label.sk-toggleable__label-arrow:before {content: \"▸\";float: left;margin-right: 0.25em;color: #696969;}#sk-container-id-2 label.sk-toggleable__label-arrow:hover:before {color: black;}#sk-container-id-2 div.sk-estimator:hover label.sk-toggleable__label-arrow:before {color: black;}#sk-container-id-2 div.sk-toggleable__content {max-height: 0;max-width: 0;overflow: hidden;text-align: left;background-color: #f0f8ff;}#sk-container-id-2 div.sk-toggleable__content pre {margin: 0.2em;color: black;border-radius: 0.25em;background-color: #f0f8ff;}#sk-container-id-2 input.sk-toggleable__control:checked~div.sk-toggleable__content {max-height: 200px;max-width: 100%;overflow: auto;}#sk-container-id-2 input.sk-toggleable__control:checked~label.sk-toggleable__label-arrow:before {content: \"▾\";}#sk-container-id-2 div.sk-estimator input.sk-toggleable__control:checked~label.sk-toggleable__label {background-color: #d4ebff;}#sk-container-id-2 div.sk-label input.sk-toggleable__control:checked~label.sk-toggleable__label {background-color: #d4ebff;}#sk-container-id-2 input.sk-hidden--visually {border: 0;clip: rect(1px 1px 1px 1px);clip: rect(1px, 1px, 1px, 1px);height: 1px;margin: -1px;overflow: hidden;padding: 0;position: absolute;width: 1px;}#sk-container-id-2 div.sk-estimator {font-family: monospace;background-color: #f0f8ff;border: 1px dotted black;border-radius: 0.25em;box-sizing: border-box;margin-bottom: 0.5em;}#sk-container-id-2 div.sk-estimator:hover {background-color: #d4ebff;}#sk-container-id-2 div.sk-parallel-item::after {content: \"\";width: 100%;border-bottom: 1px solid gray;flex-grow: 1;}#sk-container-id-2 div.sk-label:hover label.sk-toggleable__label {background-color: #d4ebff;}#sk-container-id-2 div.sk-serial::before {content: \"\";position: absolute;border-left: 1px solid gray;box-sizing: border-box;top: 0;bottom: 0;left: 50%;z-index: 0;}#sk-container-id-2 div.sk-serial {display: flex;flex-direction: column;align-items: center;background-color: white;padding-right: 0.2em;padding-left: 0.2em;position: relative;}#sk-container-id-2 div.sk-item {position: relative;z-index: 1;}#sk-container-id-2 div.sk-parallel {display: flex;align-items: stretch;justify-content: center;background-color: white;position: relative;}#sk-container-id-2 div.sk-item::before, #sk-container-id-2 div.sk-parallel-item::before {content: \"\";position: absolute;border-left: 1px solid gray;box-sizing: border-box;top: 0;bottom: 0;left: 50%;z-index: -1;}#sk-container-id-2 div.sk-parallel-item {display: flex;flex-direction: column;z-index: 1;position: relative;background-color: white;}#sk-container-id-2 div.sk-parallel-item:first-child::after {align-self: flex-end;width: 50%;}#sk-container-id-2 div.sk-parallel-item:last-child::after {align-self: flex-start;width: 50%;}#sk-container-id-2 div.sk-parallel-item:only-child::after {width: 0;}#sk-container-id-2 div.sk-dashed-wrapped {border: 1px dashed gray;margin: 0 0.4em 0.5em 0.4em;box-sizing: border-box;padding-bottom: 0.4em;background-color: white;}#sk-container-id-2 div.sk-label label {font-family: monospace;font-weight: bold;display: inline-block;line-height: 1.2em;}#sk-container-id-2 div.sk-label-container {text-align: center;}#sk-container-id-2 div.sk-container {/* jupyter's `normalize.less` sets `[hidden] { display: none; }` but bootstrap.min.css set `[hidden] { display: none !important; }` so we also need the `!important` here to be able to override the default hidden behavior on the sphinx rendered scikit-learn.org. See: https://github.com/scikit-learn/scikit-learn/issues/21755 */display: inline-block !important;position: relative;}#sk-container-id-2 div.sk-text-repr-fallback {display: none;}</style><div id=\"sk-container-id-2\" class=\"sk-top-container\"><div class=\"sk-text-repr-fallback\"><pre>GridSearchCV(cv=10, estimator=GradientBoostingRegressor(), n_jobs=-1,\n",
       "             param_grid={&#x27;learning_rate&#x27;: [0.001, 0.01, 0.05, 0.1, 0.15, 0.2],\n",
       "                         &#x27;n_estimators&#x27;: [100, 200, 300, 400, 500]},\n",
       "             scoring=&#x27;neg_mean_absolute_error&#x27;)</pre><b>In a Jupyter environment, please rerun this cell to show the HTML representation or trust the notebook. <br />On GitHub, the HTML representation is unable to render, please try loading this page with nbviewer.org.</b></div><div class=\"sk-container\" hidden><div class=\"sk-item sk-dashed-wrapped\"><div class=\"sk-label-container\"><div class=\"sk-label sk-toggleable\"><input class=\"sk-toggleable__control sk-hidden--visually\" id=\"sk-estimator-id-4\" type=\"checkbox\" ><label for=\"sk-estimator-id-4\" class=\"sk-toggleable__label sk-toggleable__label-arrow\">GridSearchCV</label><div class=\"sk-toggleable__content\"><pre>GridSearchCV(cv=10, estimator=GradientBoostingRegressor(), n_jobs=-1,\n",
       "             param_grid={&#x27;learning_rate&#x27;: [0.001, 0.01, 0.05, 0.1, 0.15, 0.2],\n",
       "                         &#x27;n_estimators&#x27;: [100, 200, 300, 400, 500]},\n",
       "             scoring=&#x27;neg_mean_absolute_error&#x27;)</pre></div></div></div><div class=\"sk-parallel\"><div class=\"sk-parallel-item\"><div class=\"sk-item\"><div class=\"sk-label-container\"><div class=\"sk-label sk-toggleable\"><input class=\"sk-toggleable__control sk-hidden--visually\" id=\"sk-estimator-id-5\" type=\"checkbox\" ><label for=\"sk-estimator-id-5\" class=\"sk-toggleable__label sk-toggleable__label-arrow\">estimator: GradientBoostingRegressor</label><div class=\"sk-toggleable__content\"><pre>GradientBoostingRegressor()</pre></div></div></div><div class=\"sk-serial\"><div class=\"sk-item\"><div class=\"sk-estimator sk-toggleable\"><input class=\"sk-toggleable__control sk-hidden--visually\" id=\"sk-estimator-id-6\" type=\"checkbox\" ><label for=\"sk-estimator-id-6\" class=\"sk-toggleable__label sk-toggleable__label-arrow\">GradientBoostingRegressor</label><div class=\"sk-toggleable__content\"><pre>GradientBoostingRegressor()</pre></div></div></div></div></div></div></div></div></div></div>"
      ],
      "text/plain": [
       "GridSearchCV(cv=10, estimator=GradientBoostingRegressor(), n_jobs=-1,\n",
       "             param_grid={'learning_rate': [0.001, 0.01, 0.05, 0.1, 0.15, 0.2],\n",
       "                         'n_estimators': [100, 200, 300, 400, 500]},\n",
       "             scoring='neg_mean_absolute_error')"
      ]
     },
     "execution_count": 12,
     "metadata": {},
     "output_type": "execute_result"
    }
   ],
   "source": [
    "search.fit(X_train,np.ravel(Y_train))"
   ]
  },
  {
   "cell_type": "code",
   "execution_count": 14,
   "id": "27a65559",
   "metadata": {},
   "outputs": [
    {
     "data": {
      "text/plain": [
       "{'learning_rate': 0.05, 'n_estimators': 500}"
      ]
     },
     "execution_count": 14,
     "metadata": {},
     "output_type": "execute_result"
    }
   ],
   "source": [
    "search.best_params_"
   ]
  },
  {
   "cell_type": "code",
   "execution_count": 56,
   "id": "d3d21696",
   "metadata": {},
   "outputs": [],
   "source": [
    "learning_rate = [0.001,0.01,0.05,0.1,0.15,0.2]\n",
    "r_squared_tst = []\n",
    "r_squared_tr = []\n",
    "for i in learning_rate:\n",
    "    model = GradientBoostingRegressor(learning_rate = i, n_estimators = 500, subsample = 0.75)\n",
    "    model.fit(X_train,np.ravel(Y_train))\n",
    "    pred_tst = model.predict(X_test)\n",
    "    pred_tr = model.predict(X_train)\n",
    "    r_squared_tst.append(r2_score(np.ravel(Y_test),pred_tst))\n",
    "    r_squared_tr.append(r2_score(np.ravel(Y_train),pred_tr))\n",
    "    "
   ]
  },
  {
   "cell_type": "code",
   "execution_count": 59,
   "id": "8b4e123b",
   "metadata": {},
   "outputs": [
    {
     "data": {
      "image/png": "[encoded data removed]",
      "text/plain": [
       "<Figure size 432x288 with 1 Axes>"
      ]
     },
     "metadata": {
      "needs_background": "light"
     },
     "output_type": "display_data"
    }
   ],
   "source": []
  },
  {
   "cell_type": "code",
   "execution_count": 50,
   "id": "985ca175",
   "metadata": {},
   "outputs": [],
   "source": [
    "#Since the number of predictors are high by shrinking the size of number of predictors available will reduce the variance\n",
    "#It can be acheived by varying the subsample size\n",
    "space2 = {\n",
    "    \"learning_rate\" : [0.05,0.75,0.25],\n",
    "    \"n_estimators\": [500],\n",
    "    \"subsample\" : [0.5,0.75,0.8,0.85,0.9,1]\n",
    "}\n",
    "search2 = GridSearchCV(GradientBoostingRegressor(), space2, scoring = \"neg_mean_absolute_error\", n_jobs = -1, cv = 10)"
   ]
  },
  {
   "cell_type": "code",
   "execution_count": 51,
   "id": "482491a4",
   "metadata": {},
   "outputs": [
    {
     "data": {
      "text/html": [
       "<style>#sk-container-id-3 {color: black;background-color: white;}#sk-container-id-3 pre{padding: 0;}#sk-container-id-3 div.sk-toggleable {background-color: white;}#sk-container-id-3 label.sk-toggleable__label {cursor: pointer;display: block;width: 100%;margin-bottom: 0;padding: 0.3em;box-sizing: border-box;text-align: center;}#sk-container-id-3 label.sk-toggleable__label-arrow:before {content: \"▸\";float: left;margin-right: 0.25em;color: #696969;}#sk-container-id-3 label.sk-toggleable__label-arrow:hover:before {color: black;}#sk-container-id-3 div.sk-estimator:hover label.sk-toggleable__label-arrow:before {color: black;}#sk-container-id-3 div.sk-toggleable__content {max-height: 0;max-width: 0;overflow: hidden;text-align: left;background-color: #f0f8ff;}#sk-container-id-3 div.sk-toggleable__content pre {margin: 0.2em;color: black;border-radius: 0.25em;background-color: #f0f8ff;}#sk-container-id-3 input.sk-toggleable__control:checked~div.sk-toggleable__content {max-height: 200px;max-width: 100%;overflow: auto;}#sk-container-id-3 input.sk-toggleable__control:checked~label.sk-toggleable__label-arrow:before {content: \"▾\";}#sk-container-id-3 div.sk-estimator input.sk-toggleable__control:checked~label.sk-toggleable__label {background-color: #d4ebff;}#sk-container-id-3 div.sk-label input.sk-toggleable__control:checked~label.sk-toggleable__label {background-color: #d4ebff;}#sk-container-id-3 input.sk-hidden--visually {border: 0;clip: rect(1px 1px 1px 1px);clip: rect(1px, 1px, 1px, 1px);height: 1px;margin: -1px;overflow: hidden;padding: 0;position: absolute;width: 1px;}#sk-container-id-3 div.sk-estimator {font-family: monospace;background-color: #f0f8ff;border: 1px dotted black;border-radius: 0.25em;box-sizing: border-box;margin-bottom: 0.5em;}#sk-container-id-3 div.sk-estimator:hover {background-color: #d4ebff;}#sk-container-id-3 div.sk-parallel-item::after {content: \"\";width: 100%;border-bottom: 1px solid gray;flex-grow: 1;}#sk-container-id-3 div.sk-label:hover label.sk-toggleable__label {background-color: #d4ebff;}#sk-container-id-3 div.sk-serial::before {content: \"\";position: absolute;border-left: 1px solid gray;box-sizing: border-box;top: 0;bottom: 0;left: 50%;z-index: 0;}#sk-container-id-3 div.sk-serial {display: flex;flex-direction: column;align-items: center;background-color: white;padding-right: 0.2em;padding-left: 0.2em;position: relative;}#sk-container-id-3 div.sk-item {position: relative;z-index: 1;}#sk-container-id-3 div.sk-parallel {display: flex;align-items: stretch;justify-content: center;background-color: white;position: relative;}#sk-container-id-3 div.sk-item::before, #sk-container-id-3 div.sk-parallel-item::before {content: \"\";position: absolute;border-left: 1px solid gray;box-sizing: border-box;top: 0;bottom: 0;left: 50%;z-index: -1;}#sk-container-id-3 div.sk-parallel-item {display: flex;flex-direction: column;z-index: 1;position: relative;background-color: white;}#sk-container-id-3 div.sk-parallel-item:first-child::after {align-self: flex-end;width: 50%;}#sk-container-id-3 div.sk-parallel-item:last-child::after {align-self: flex-start;width: 50%;}#sk-container-id-3 div.sk-parallel-item:only-child::after {width: 0;}#sk-container-id-3 div.sk-dashed-wrapped {border: 1px dashed gray;margin: 0 0.4em 0.5em 0.4em;box-sizing: border-box;padding-bottom: 0.4em;background-color: white;}#sk-container-id-3 div.sk-label label {font-family: monospace;font-weight: bold;display: inline-block;line-height: 1.2em;}#sk-container-id-3 div.sk-label-container {text-align: center;}#sk-container-id-3 div.sk-container {/* jupyter's `normalize.less` sets `[hidden] { display: none; }` but bootstrap.min.css set `[hidden] { display: none !important; }` so we also need the `!important` here to be able to override the default hidden behavior on the sphinx rendered scikit-learn.org. See: https://github.com/scikit-learn/scikit-learn/issues/21755 */display: inline-block !important;position: relative;}#sk-container-id-3 div.sk-text-repr-fallback {display: none;}</style><div id=\"sk-container-id-3\" class=\"sk-top-container\"><div class=\"sk-text-repr-fallback\"><pre>GridSearchCV(cv=10, estimator=GradientBoostingRegressor(), n_jobs=-1,\n",
       "             param_grid={&#x27;learning_rate&#x27;: [0.05, 0.75, 0.25],\n",
       "                         &#x27;n_estimators&#x27;: [500],\n",
       "                         &#x27;subsample&#x27;: [0.5, 0.75, 0.8, 0.85, 0.9, 1]},\n",
       "             scoring=&#x27;neg_mean_absolute_error&#x27;)</pre><b>In a Jupyter environment, please rerun this cell to show the HTML representation or trust the notebook. <br />On GitHub, the HTML representation is unable to render, please try loading this page with nbviewer.org.</b></div><div class=\"sk-container\" hidden><div class=\"sk-item sk-dashed-wrapped\"><div class=\"sk-label-container\"><div class=\"sk-label sk-toggleable\"><input class=\"sk-toggleable__control sk-hidden--visually\" id=\"sk-estimator-id-7\" type=\"checkbox\" ><label for=\"sk-estimator-id-7\" class=\"sk-toggleable__label sk-toggleable__label-arrow\">GridSearchCV</label><div class=\"sk-toggleable__content\"><pre>GridSearchCV(cv=10, estimator=GradientBoostingRegressor(), n_jobs=-1,\n",
       "             param_grid={&#x27;learning_rate&#x27;: [0.05, 0.75, 0.25],\n",
       "                         &#x27;n_estimators&#x27;: [500],\n",
       "                         &#x27;subsample&#x27;: [0.5, 0.75, 0.8, 0.85, 0.9, 1]},\n",
       "             scoring=&#x27;neg_mean_absolute_error&#x27;)</pre></div></div></div><div class=\"sk-parallel\"><div class=\"sk-parallel-item\"><div class=\"sk-item\"><div class=\"sk-label-container\"><div class=\"sk-label sk-toggleable\"><input class=\"sk-toggleable__control sk-hidden--visually\" id=\"sk-estimator-id-8\" type=\"checkbox\" ><label for=\"sk-estimator-id-8\" class=\"sk-toggleable__label sk-toggleable__label-arrow\">estimator: GradientBoostingRegressor</label><div class=\"sk-toggleable__content\"><pre>GradientBoostingRegressor()</pre></div></div></div><div class=\"sk-serial\"><div class=\"sk-item\"><div class=\"sk-estimator sk-toggleable\"><input class=\"sk-toggleable__control sk-hidden--visually\" id=\"sk-estimator-id-9\" type=\"checkbox\" ><label for=\"sk-estimator-id-9\" class=\"sk-toggleable__label sk-toggleable__label-arrow\">GradientBoostingRegressor</label><div class=\"sk-toggleable__content\"><pre>GradientBoostingRegressor()</pre></div></div></div></div></div></div></div></div></div></div>"
      ],
      "text/plain": [
       "GridSearchCV(cv=10, estimator=GradientBoostingRegressor(), n_jobs=-1,\n",
       "             param_grid={'learning_rate': [0.05, 0.75, 0.25],\n",
       "                         'n_estimators': [500],\n",
       "                         'subsample': [0.5, 0.75, 0.8, 0.85, 0.9, 1]},\n",
       "             scoring='neg_mean_absolute_error')"
      ]
     },
     "execution_count": 51,
     "metadata": {},
     "output_type": "execute_result"
    }
   ],
   "source": [
    "search2.fit(X_train,np.ravel(Y_train))\n"
   ]
  },
  {
   "cell_type": "code",
   "execution_count": 53,
   "id": "6a7c30dd",
   "metadata": {},
   "outputs": [
    {
     "data": {
      "text/plain": [
       "{'learning_rate': 0.05, 'n_estimators': 500, 'subsample': 0.75}"
      ]
     },
     "execution_count": 53,
     "metadata": {},
     "output_type": "execute_result"
    }
   ],
   "source": [
    "search2.best_params_"
   ]
  },
  {
   "cell_type": "code",
   "execution_count": 60,
   "id": "59cd787a",
   "metadata": {},
   "outputs": [
    {
     "data": {
      "image/png": "[encoded data removed]",
      "text/plain": [
       "<Figure size 432x288 with 1 Axes>"
      ]
     },
     "metadata": {
      "needs_background": "light"
     },
     "output_type": "display_data"
    }
   ],
   "source": [
    "from matplotlib.legend_handler import HandlerLine2D\n",
    "line1, = plt.plot(learning_rate, r_squared_tst, \"b\", label=\"Test R^2 Value\")\n",
    "line2, = plt.plot(learning_rate, r_squared_tr, \"r\", label=\"Tr R^2 Value\")\n",
    "plt.legend(handler_map={line1: HandlerLine2D(numpoints=2)})\n",
    "plt.ylabel(\"R^2 Values\")\n",
    "plt.xlabel(\"learning_rate\")\n",
    "plt.show()"
   ]
  },
  {
   "cell_type": "code",
   "execution_count": null,
   "id": "95fe0902",
   "metadata": {},
   "outputs": [],
   "source": [
    "#We can choose value of learning_rate as 0.02 instead of 0.05 which was determined by the Gridsearch, as the difference in the \n",
    "#R_squared value is not significant. Having a lower learning_rate will build a model with lower variance."
   ]
  },
  {
   "cell_type": "code",
   "execution_count": 67,
   "id": "365b7306",
   "metadata": {},
   "outputs": [
    {
     "name": "stdout",
     "output_type": "stream",
     "text": [
      "Test RMSE value using Gradient Boosting with Original Dataset:  22365.305090199978\n"
     ]
    }
   ],
   "source": [
    "final_model = GradientBoostingRegressor(learning_rate = 0.02, n_estimators = 500, subsample = 0.75)\n",
    "final_model.fit(X_train,np.ravel(Y_train))\n",
    "pred_tst = final_model.predict(X_test)\n",
    "import math as math\n",
    "rmse_tst = math.sqrt(np.mean((np.ravel(Y_test)-pred_tst)**2))\n",
    "print(\"Test RMSE value using Gradient Boosting with Original Dataset: \", rmse_tst)"
   ]
  },
  {
   "cell_type": "code",
   "execution_count": 95,
   "id": "a635fed2",
   "metadata": {},
   "outputs": [
    {
     "name": "stdout",
     "output_type": "stream",
     "text": [
      "Test RMSE value using Gradient Boosting with Lasso Dataset:  22385.9966127347\n"
     ]
    }
   ],
   "source": [
    "final_model_lasso = GradientBoostingRegressor(learning_rate = 0.02, n_estimators = 500, subsample = 0.75)\n",
    "final_model_lasso.fit(X_lasso,np.ravel(Y_train))\n",
    "pred_tst_ = final_model_lasso.predict(X_lasso_tst)\n",
    "import math as math\n",
    "rmse_tst_lasso = math.sqrt(np.mean((np.ravel(Y_test)-pred_tst_)**2))\n",
    "print(\"Test RMSE value using Gradient Boosting with Lasso Dataset: \", rmse_tst_lasso)"
   ]
  },
  {
   "cell_type": "markdown",
   "id": "6286567b",
   "metadata": {},
   "source": [
    "# Feature Importance"
   ]
  },
  {
   "cell_type": "code",
   "execution_count": 107,
   "id": "9d6924ab",
   "metadata": {},
   "outputs": [
    {
     "data": {
      "image/png": "[encoded data removed]",
      "text/plain": [
       "<Figure size 432x288 with 1 Axes>"
      ]
     },
     "metadata": {
      "needs_background": "light"
     },
     "output_type": "display_data"
    }
   ],
   "source": [
    "#Plotting Feature Importance\n",
    "feature_imp = final_model.feature_importances_\n",
    "\n",
    "#Normalizing the feature importances gives us ease of interpretation\n",
    "feature_imp = 100*(feature_imp/(max(feature_imp)))\n",
    "sorted_idx = np.argsort(feature_imp)\n",
    "sorted_idx_20 = sorted_idx[:20]\n",
    "#Lets plot for the top 20 features\n",
    "pos = np.arange(sorted_idx_20.shape[0])+0.5\n",
    "plt.barh(pos, feature_imp[sorted_idx_20], align= \"center\")\n",
    "plt.yticks(pos,col_names[sorted_idx_20])\n",
    "plt.show()"
   ]
  },
  {
   "cell_type": "markdown",
   "id": "15aa5487",
   "metadata": {},
   "source": [
    "Conclusion : Overall Condition feature with observations varying from 1 - 10, 10 being the very excellent condition of the house has a very high say in predicting the house price.\n",
    "2) Also having additional half bathroom at Basement of the house are considered to be more expensive.\n",
    "3) If the house is under sale for a longer time then the price of the house comes down substanstially. Also having a full bathroom fetches more value to the house.\n",
    "4) Having more Open Porch Area increases the price of the house more."
   ]
  }
 ],
 "metadata": {
  "colab": {
   "provenance": []
  },
  "kernelspec": {
   "display_name": "Python 3 (ipykernel)",
   "language": "python",
   "name": "python3"
  },
  "language_info": {
   "codemirror_mode": {
    "name": "ipython",
    "version": 3
   },
   "file_extension": ".py",
   "mimetype": "text/x-python",
   "name": "python",
   "nbconvert_exporter": "python",
   "pygments_lexer": "ipython3",
   "version": "3.9.12"
  }
 },
 "nbformat": 4,
 "nbformat_minor": 5
}
